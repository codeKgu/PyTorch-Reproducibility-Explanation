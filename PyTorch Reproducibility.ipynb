{
 "cells": [
  {
   "cell_type": "code",
   "execution_count": 18,
   "metadata": {},
   "outputs": [
    {
     "name": "stdout",
     "output_type": "stream",
     "text": [
      "Files already downloaded and verified\n",
      "Files already downloaded and verified\n"
     ]
    }
   ],
   "source": [
    "import torchvision\n",
    "import torchvision.transforms as transforms\n",
    "from torch.utils.data import DataLoader\n",
    "\n",
    "\n",
    "transforms = transforms.Compose(\n",
    "    [transforms.ToTensor(),\n",
    "     transforms.Normalize((0.5), (0.5))])\n",
    "\n",
    "train_set = torchvision.datasets.CIFAR10('./data', train=True,\n",
    "                                       download=True,\n",
    "                                       transform=transforms)\n",
    "train_loader = DataLoader(train_set, batch_size=4, shuffle=False)\n",
    "\n",
    "# treat the test dataset as a validation set for this example\n",
    "validation_set = torchvision.datasets.CIFAR10('./data', train=False,\n",
    "                                            download=True,\n",
    "                                            transform=transforms)\n",
    "validation_loader = DataLoader(validation_set, batch_size=4, shuffle=True)"
   ]
  },
  {
   "cell_type": "code",
   "execution_count": 19,
   "metadata": {},
   "outputs": [],
   "source": [
    "import torch.nn as nn\n",
    "import torch.nn.functional as F\n",
    "import torch.optim as optim\n",
    "\n",
    "class Net(nn.Module):\n",
    "    def __init__(self):\n",
    "        super(Net, self).__init__()\n",
    "        self.conv1 = nn.Conv2d(3, 6, 5)\n",
    "        self.pool = nn.MaxPool2d(2, 2)\n",
    "        self.conv2 = nn.Conv2d(6, 16, 5)\n",
    "        self.fc1 = nn.Linear(16 * 5 * 5, 120)\n",
    "        self.dropout1 = nn.Dropout(0.2)\n",
    "        self.fc2 = nn.Linear(120, 84)\n",
    "        self.fc3 = nn.Linear(84, 10)\n",
    "\n",
    "    def forward(self, x):\n",
    "        x = self.pool(F.relu(self.conv1(x)))\n",
    "        x = self.pool(F.relu(self.conv2(x)))\n",
    "        x = x.view(-1, 16 * 5 * 5)\n",
    "        x = F.relu(self.fc1(x))\n",
    "        x = self.dropout1(x)\n",
    "        x = F.relu(self.fc2(x))\n",
    "        x = self.fc3(x)\n",
    "        return x\n",
    "    \n",
    "net = Net()\n",
    "criterion = nn.CrossEntropyLoss()\n",
    "optimizer = optim.SGD(net.parameters(), lr=0.001, momentum=0.9)"
   ]
  },
  {
   "cell_type": "markdown",
   "metadata": {},
   "source": [
    "## Training and Validation"
   ]
  },
  {
   "cell_type": "code",
   "execution_count": null,
   "metadata": {},
   "outputs": [
    {
     "name": "stdout",
     "output_type": "stream",
     "text": [
      "======== Training Without Validation ========\n",
      "[Epoch 1, Iter  2000] loss: 1.191\n",
      "[Epoch 1, Iter  4000] loss: 1.200\n",
      "[Epoch 1, Iter  6000] loss: 1.158\n",
      "[Epoch 1, Iter  8000] loss: 1.148\n",
      "[Epoch 1, Iter 10000] loss: 1.189\n",
      "[Epoch 1, Iter 12000] loss: 1.178\n",
      "Val [Epoch 1,  2500] loss: 1.181\n",
      "[Epoch 2, Iter  2000] loss: 1.153\n",
      "[Epoch 2, Iter  4000] loss: 1.163\n",
      "[Epoch 2, Iter  6000] loss: 1.126\n",
      "[Epoch 2, Iter  8000] loss: 1.118\n",
      "[Epoch 2, Iter 10000] loss: 1.157\n",
      "[Epoch 2, Iter 12000] loss: 1.137\n",
      "Val [Epoch 2,  2500] loss: 1.130\n",
      "Finished Training\n",
      "======== Training With Validation ========\n",
      "[Epoch 1, Iter  2000] loss: 1.075\n",
      "[Epoch 1, Iter  4000] loss: 1.077\n",
      "[Epoch 1, Iter  6000] loss: 1.047\n",
      "[Epoch 1, Iter  8000] loss: 1.036\n"
     ]
    }
   ],
   "source": [
    "import torch\n",
    "\n",
    "\n",
    "def train(net, train_loader, validation_loader, validation_during_training, num_epochs=2):\n",
    "    for epoch in range(num_epochs):  # loop over the dataset multiple times\n",
    "        net.train()\n",
    "        running_loss = 0.0\n",
    "        for i, data in enumerate(train_loader, 0):\n",
    "            # get the inputs; data is a list of [inputs, labels]\n",
    "            inputs, labels = data\n",
    "\n",
    "            # zero the parameter gradients\n",
    "            optimizer.zero_grad()\n",
    "\n",
    "            # forward + backward + optimize\n",
    "            outputs = net(inputs)\n",
    "            loss = criterion(outputs, labels)\n",
    "            loss.backward()\n",
    "            optimizer.step()\n",
    "\n",
    "\n",
    "            # print statistics\n",
    "            running_loss += loss.item()\n",
    "            if i % 2000 == 1999:    # print every 2000 mini-batches\n",
    "                print('[Epoch %d, Iter %5d] loss: %.3f' %\n",
    "                      (epoch + 1, i + 1, running_loss / 2000))\n",
    "                running_loss = 0.0\n",
    "            \n",
    "        if validation_during_training:\n",
    "            validation(net, validation_loader, epoch)\n",
    "    \n",
    "    print('Finished Training')\n",
    "\n",
    "\n",
    "\n",
    "def validation(net, validation_dataloader, epoch):\n",
    "    net.eval()\n",
    "    running_loss = 0.0\n",
    "    with torch.no_grad():\n",
    "        for i, data in enumerate(validation_dataloader, 0):\n",
    "            inputs, labels = data\n",
    "            outputs = net(inputs)\n",
    "            loss = criterion(outputs, labels)\n",
    "            running_loss += loss.item()\n",
    "    print('Val [Epoch %d, %5d] loss: %.3f' %\n",
    "                      (epoch + 1, i + 1, running_loss / len(validation_dataloader) ))\n",
    "\n",
    "    \n",
    "print('======== Training Without Validation ========')\n",
    "torch.manual_seed(3)\n",
    "train(net, train_loader, validation_loader, validation_during_training=True)\n",
    "print('======== Training With Validation ========')\n",
    "torch.manual_seed(3)\n",
    "train(net, train_loader, validation_loader, validation_during_training=False)"
   ]
  },
  {
   "cell_type": "code",
   "execution_count": null,
   "metadata": {},
   "outputs": [],
   "source": []
  }
 ],
 "metadata": {
  "kernelspec": {
   "display_name": "Python 3",
   "language": "python",
   "name": "python3"
  },
  "language_info": {
   "codemirror_mode": {
    "name": "ipython",
    "version": 3
   },
   "file_extension": ".py",
   "mimetype": "text/x-python",
   "name": "python",
   "nbconvert_exporter": "python",
   "pygments_lexer": "ipython3",
   "version": "3.7.3"
  }
 },
 "nbformat": 4,
 "nbformat_minor": 4
}
